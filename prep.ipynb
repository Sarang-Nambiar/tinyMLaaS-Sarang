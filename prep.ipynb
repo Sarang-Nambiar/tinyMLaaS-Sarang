{
 "cells": [
  {
   "cell_type": "markdown",
   "id": "6d25e624",
   "metadata": {},
   "source": [
    "# MNIST dataset\n",
    "\n",
    "We'll split MNIST dataset (test) and locate under the directory with label number.\n",
    "\n",
    "file name -> `/<label#>/<offset#>`\n",
    "\n",
    "Pytorch stores MNIST dataset under `./data/MNIST/raw/`"
   ]
  },
  {
   "cell_type": "code",
   "execution_count": 1,
   "id": "ca1877a1",
   "metadata": {},
   "outputs": [],
   "source": [
    "import os\n",
    "import torchvision"
   ]
  },
  {
   "cell_type": "code",
   "execution_count": 2,
   "id": "2e4eaa39",
   "metadata": {},
   "outputs": [
    {
     "name": "stderr",
     "output_type": "stream",
     "text": [
      "0.4%"
     ]
    },
    {
     "name": "stdout",
     "output_type": "stream",
     "text": [
      "Downloading http://yann.lecun.com/exdb/mnist/train-images-idx3-ubyte.gz to ./data\\MNIST\\raw\\train-images-idx3-ubyte.gz\n"
     ]
    },
    {
     "name": "stderr",
     "output_type": "stream",
     "text": [
      "100.1%"
     ]
    },
    {
     "name": "stdout",
     "output_type": "stream",
     "text": [
      "Extracting ./data\\MNIST\\raw\\train-images-idx3-ubyte.gz\n"
     ]
    },
    {
     "name": "stderr",
     "output_type": "stream",
     "text": [
      "113.5%"
     ]
    },
    {
     "name": "stdout",
     "output_type": "stream",
     "text": [
      "Downloading http://yann.lecun.com/exdb/mnist/train-labels-idx1-ubyte.gz to ./data\\MNIST\\raw\\train-labels-idx1-ubyte.gz\n",
      "Extracting ./data\\MNIST\\raw\\train-labels-idx1-ubyte.gz\n",
      "Downloading http://yann.lecun.com/exdb/mnist/t10k-images-idx3-ubyte.gz to ./data\\MNIST\\raw\\t10k-images-idx3-ubyte.gz\n"
     ]
    },
    {
     "name": "stderr",
     "output_type": "stream",
     "text": [
      "100.4%"
     ]
    },
    {
     "name": "stdout",
     "output_type": "stream",
     "text": [
      "Extracting ./data\\MNIST\\raw\\t10k-images-idx3-ubyte.gz\n",
      "Downloading http://yann.lecun.com/exdb/mnist/t10k-labels-idx1-ubyte.gz to ./data\\MNIST\\raw\\t10k-labels-idx1-ubyte.gz\n"
     ]
    },
    {
     "name": "stderr",
     "output_type": "stream",
     "text": [
      "180.4%"
     ]
    },
    {
     "name": "stdout",
     "output_type": "stream",
     "text": [
      "Extracting ./data\\MNIST\\raw\\t10k-labels-idx1-ubyte.gz\n",
      "Processing...\n",
      "Done!\n"
     ]
    },
    {
     "data": {
      "text/plain": [
       "Dataset MNIST\n",
       "    Number of datapoints: 10000\n",
       "    Split: test\n",
       "    Root Location: ./data\n",
       "    Transforms (if any): None\n",
       "    Target Transforms (if any): None"
      ]
     },
     "execution_count": 2,
     "metadata": {},
     "output_type": "execute_result"
    }
   ],
   "source": [
    "torchvision.datasets.MNIST(root='./data', train=False, download=True)"
   ]
  },
  {
   "cell_type": "code",
   "execution_count": 3,
   "id": "599c3560",
   "metadata": {},
   "outputs": [
    {
     "data": {
      "text/plain": [
       "['t10k-images-idx3-ubyte',\n",
       " 't10k-labels-idx1-ubyte',\n",
       " 'train-images-idx3-ubyte',\n",
       " 'train-labels-idx1-ubyte']"
      ]
     },
     "execution_count": 3,
     "metadata": {},
     "output_type": "execute_result"
    }
   ],
   "source": [
    "base_path = './data/MNIST/raw/'\n",
    "os.listdir(base_path)"
   ]
  },
  {
   "cell_type": "code",
   "execution_count": 4,
   "id": "6b7ac842",
   "metadata": {},
   "outputs": [
    {
     "name": "stdout",
     "output_type": "stream",
     "text": [
      "10008\n"
     ]
    },
    {
     "data": {
      "text/plain": [
       "(10008, [0, 0, 8, 1, 0, 0, 39, 16, 7, 2, 1, 0])"
      ]
     },
     "execution_count": 4,
     "metadata": {},
     "output_type": "execute_result"
    }
   ],
   "source": [
    "path = os.path.join(base_path, 't10k-labels-idx1-ubyte')\n",
    "print(os.stat(path).st_size)\n",
    "with open(path, 'rb') as f:\n",
    "    labels = list(f.read())\n",
    "\n",
    "len(labels), labels[:12]"
   ]
  },
  {
   "cell_type": "code",
   "execution_count": 5,
   "id": "aa54697f",
   "metadata": {},
   "outputs": [
    {
     "data": {
      "text/plain": [
       "['0', '1', '2', '3', '4', '5', '6', '7', '8', '9']"
      ]
     },
     "execution_count": 5,
     "metadata": {},
     "output_type": "execute_result"
    }
   ],
   "source": [
    "#path = os.path.join(base_path, 'data/MNIST/sorted')\n",
    "path = os.path.join('./data/MNIST', 'sorted')\n",
    "os.makedirs(path, exist_ok=True)\n",
    "for i in range(10):\n",
    "    p = os.path.join(path, str(i))\n",
    "    os.makedirs(p, exist_ok=True)\n",
    "sorted(os.listdir(path))"
   ]
  },
  {
   "cell_type": "code",
   "execution_count": 6,
   "id": "e453acb0",
   "metadata": {},
   "outputs": [
    {
     "data": {
      "text/plain": [
       "[(0, 7), (1, 2), (2, 1), (3, 0), (4, 4), (5, 1), (6, 4), (7, 9), (8, 5)]"
      ]
     },
     "execution_count": 6,
     "metadata": {},
     "output_type": "execute_result"
    }
   ],
   "source": [
    "labels = labels[8:]\n",
    "labels = [(i, l) for i, l in enumerate(labels)]\n",
    "labels[:9]"
   ]
  },
  {
   "cell_type": "code",
   "execution_count": 7,
   "id": "2a0eacb1",
   "metadata": {},
   "outputs": [],
   "source": [
    "import numpy\n",
    "import matplotlib.pyplot as plt\n",
    "def show_image(x):\n",
    "    x = numpy.array(list(x)).reshape(28,28)\n",
    "    plt.imshow(x)"
   ]
  },
  {
   "cell_type": "code",
   "execution_count": 8,
   "id": "bfca4e38",
   "metadata": {},
   "outputs": [],
   "source": [
    "with open('./data/MNIST/raw/t10k-images-idx3-ubyte', 'rb') as f1:\n",
    "    for i, l in labels:\n",
    "        path = os.path.join('./data/MNIST/sorted', str(l), str(i))\n",
    "        with open(path, 'wb') as f2:\n",
    "            f1.seek(16+28*28*i, 0)\n",
    "            x = f1.read(28*28)\n",
    "            #show_image(x)\n",
    "            f2.write(x)\n",
    "            #break"
   ]
  },
  {
   "cell_type": "markdown",
   "id": "ac632391",
   "metadata": {},
   "source": [
    "Each image file is stored as below:\n",
    "`./data/MNIST/sorted/<label#>/<offset#>`\n",
    "\n",
    "You can take a label information from the path"
   ]
  },
  {
   "cell_type": "code",
   "execution_count": 9,
   "id": "9781f2e1",
   "metadata": {},
   "outputs": [
    {
     "name": "stderr",
     "output_type": "stream",
     "text": [
      "'ls' is not recognized as an internal or external command,\n",
      "operable program or batch file.\n"
     ]
    }
   ],
   "source": [
    "#!find ./data/MNIST/sorted\n",
    "! ls -al ./data/MNIST/sorted/7 | head"
   ]
  },
  {
   "cell_type": "code",
   "execution_count": 10,
   "id": "ef4ed369",
   "metadata": {},
   "outputs": [
    {
     "data": {
      "image/png": "[encoded data removed]",
      "text/plain": [
       "<Figure size 640x480 with 1 Axes>"
      ]
     },
     "metadata": {},
     "output_type": "display_data"
    }
   ],
   "source": [
    "path = \"data/MNIST/sorted/7/0\"\n",
    "with open(path, 'rb') as f:\n",
    "    x = list(f.read())\n",
    "    show_image(x)"
   ]
  },
  {
   "cell_type": "code",
   "execution_count": 11,
   "id": "09d356ee",
   "metadata": {},
   "outputs": [
    {
     "data": {
      "image/png": "[encoded data removed]",
      "text/plain": [
       "<Figure size 640x480 with 1 Axes>"
      ]
     },
     "metadata": {},
     "output_type": "display_data"
    }
   ],
   "source": [
    "path = \"data/MNIST/sorted/2/1\"\n",
    "with open(path, 'rb') as f:\n",
    "    x = list(f.read())\n",
    "    show_image(x)"
   ]
  },
  {
   "cell_type": "markdown",
   "id": "33cb7049",
   "metadata": {},
   "source": [
    "# Run (Example)"
   ]
  },
  {
   "cell_type": "code",
   "execution_count": 12,
   "id": "9ed6a0f5",
   "metadata": {},
   "outputs": [
    {
     "name": "stderr",
     "output_type": "stream",
     "text": [
      "'file' is not recognized as an internal or external command,\n",
      "operable program or batch file.\n"
     ]
    }
   ],
   "source": [
    "!file run"
   ]
  },
  {
   "cell_type": "code",
   "execution_count": 1,
   "id": "10d7478b",
   "metadata": {},
   "outputs": [
    {
     "name": "stderr",
     "output_type": "stream",
     "text": [
      "'run' is not recognized as an internal or external command,\n",
      "operable program or batch file.\n"
     ]
    }
   ],
   "source": [
    "# Shows each score from 0-9 in %.3f format\n",
    "!run data/MNIST/sorted/7/0"
   ]
  },
  {
   "cell_type": "code",
   "execution_count": 19,
   "id": "4af37b1b",
   "metadata": {},
   "outputs": [
    {
     "name": "stderr",
     "output_type": "stream",
     "text": [
      "'.' is not recognized as an internal or external command,\n",
      "operable program or batch file.\n"
     ]
    }
   ],
   "source": [
    "# Takes multiple files\n",
    "! ./run data/MNIST/sorted/7/0 data/MNIST/sorted/2/1 data/MNIST/sorted/1/2"
   ]
  }
 ],
 "metadata": {
  "kernelspec": {
   "display_name": "python3",
   "language": "python",
   "name": "python3"
  },
  "language_info": {
   "codemirror_mode": {
    "name": "ipython",
    "version": 3
   },
   "file_extension": ".py",
   "mimetype": "text/x-python",
   "name": "python",
   "nbconvert_exporter": "python",
   "pygments_lexer": "ipython3",
   "version": "3.7.3"
  }
 },
 "nbformat": 4,
 "nbformat_minor": 5
}
